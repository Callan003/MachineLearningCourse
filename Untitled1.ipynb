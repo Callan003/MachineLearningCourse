{
 "cells": [
  {
   "cell_type": "code",
   "execution_count": 1,
   "id": "8c1f6020",
   "metadata": {},
   "outputs": [],
   "source": [
    "import pandas as pd\n",
    "import numpy as np\n",
    "import sklearn\n",
    "import matplotlib.pyplot as plt"
   ]
  },
  {
   "cell_type": "code",
   "execution_count": 2,
   "id": "9180ef82",
   "metadata": {},
   "outputs": [],
   "source": [
    "from sklearn import datasets"
   ]
  },
  {
   "cell_type": "code",
   "execution_count": 3,
   "id": "e07ba86a",
   "metadata": {},
   "outputs": [],
   "source": [
    "digits = datasets.load_digits()"
   ]
  },
  {
   "cell_type": "code",
   "execution_count": 4,
   "id": "fcd3e818",
   "metadata": {},
   "outputs": [],
   "source": [
    "data = digits.images\n",
    "labels = digits.target"
   ]
  },
  {
   "cell_type": "code",
   "execution_count": 5,
   "id": "ab14a4df",
   "metadata": {},
   "outputs": [
    {
     "data": {
      "text/plain": [
       "0"
      ]
     },
     "execution_count": 5,
     "metadata": {},
     "output_type": "execute_result"
    },
    {
     "data": {
      "image/png": "[encoded data removed]",
      "text/plain": [
       "<Figure size 432x288 with 1 Axes>"
      ]
     },
     "metadata": {
      "needs_background": "light"
     },
     "output_type": "display_data"
    }
   ],
   "source": [
    "i = 30\n",
    "plt.imshow(data[i], cmap=plt.cm.gray_r)\n",
    "labels[i]"
   ]
  },
  {
   "cell_type": "code",
   "execution_count": 6,
   "id": "d7e98d8d",
   "metadata": {},
   "outputs": [
    {
     "data": {
      "text/plain": [
       "(1797, 8, 8)"
      ]
     },
     "execution_count": 6,
     "metadata": {},
     "output_type": "execute_result"
    }
   ],
   "source": [
    "data.shape"
   ]
  },
  {
   "cell_type": "code",
   "execution_count": 7,
   "id": "dbf64cca",
   "metadata": {},
   "outputs": [
    {
     "data": {
      "text/plain": [
       "(array([0, 1, 2, 3, 4, 5, 6, 7, 8, 9]),\n",
       " array([178, 182, 177, 183, 181, 182, 181, 179, 174, 180], dtype=int64))"
      ]
     },
     "execution_count": 7,
     "metadata": {},
     "output_type": "execute_result"
    }
   ],
   "source": [
    "np.unique(labels, return_counts=True)"
   ]
  },
  {
   "cell_type": "code",
   "execution_count": 8,
   "id": "9914ebd1",
   "metadata": {},
   "outputs": [
    {
     "data": {
      "text/plain": [
       "(1797, 64)"
      ]
     },
     "execution_count": 8,
     "metadata": {},
     "output_type": "execute_result"
    }
   ],
   "source": [
    "n_samples = data.shape[0]\n",
    "data = data.reshape((n_samples, -1))\n",
    "data.shape"
   ]
  },
  {
   "cell_type": "code",
   "execution_count": 9,
   "id": "8d75e005",
   "metadata": {},
   "outputs": [
    {
     "data": {
      "text/plain": [
       "array([ 0.,  0.,  5., 13.,  9.,  1.,  0.,  0.,  0.,  0., 13., 15., 10.,\n",
       "       15.,  5.,  0.,  0.,  3., 15.,  2.,  0., 11.,  8.,  0.,  0.,  4.,\n",
       "       12.,  0.,  0.,  8.,  8.,  0.,  0.,  5.,  8.,  0.,  0.,  9.,  8.,\n",
       "        0.,  0.,  4., 11.,  0.,  1., 12.,  7.,  0.,  0.,  2., 14.,  5.,\n",
       "       10., 12.,  0.,  0.,  0.,  0.,  6., 13., 10.,  0.,  0.,  0.])"
      ]
     },
     "execution_count": 9,
     "metadata": {},
     "output_type": "execute_result"
    }
   ],
   "source": [
    "data[0]"
   ]
  },
  {
   "cell_type": "code",
   "execution_count": 10,
   "id": "16202845",
   "metadata": {},
   "outputs": [],
   "source": [
    "X_train = data[:-100]\n",
    "Y_train = labels[:-100]\n",
    "X_test = data[-100:]\n",
    "Y_test = labels[-100:]"
   ]
  },
  {
   "cell_type": "code",
   "execution_count": 11,
   "id": "b299af3a",
   "metadata": {},
   "outputs": [
    {
     "data": {
      "text/plain": [
       "(1697, 64)"
      ]
     },
     "execution_count": 11,
     "metadata": {},
     "output_type": "execute_result"
    }
   ],
   "source": [
    "X_train.shape"
   ]
  },
  {
   "cell_type": "code",
   "execution_count": 12,
   "id": "4598a486",
   "metadata": {},
   "outputs": [
    {
     "data": {
      "text/plain": [
       "(100, 64)"
      ]
     },
     "execution_count": 12,
     "metadata": {},
     "output_type": "execute_result"
    }
   ],
   "source": [
    "X_test.shape"
   ]
  },
  {
   "cell_type": "code",
   "execution_count": 13,
   "id": "f164287b",
   "metadata": {},
   "outputs": [],
   "source": [
    "from sklearn.tree import DecisionTreeClassifier"
   ]
  },
  {
   "cell_type": "code",
   "execution_count": 14,
   "id": "e1a16c6c",
   "metadata": {},
   "outputs": [],
   "source": [
    "dt = DecisionTreeClassifier()"
   ]
  },
  {
   "cell_type": "code",
   "execution_count": 15,
   "id": "16535e94",
   "metadata": {},
   "outputs": [
    {
     "data": {
      "text/plain": [
       "DecisionTreeClassifier()"
      ]
     },
     "execution_count": 15,
     "metadata": {},
     "output_type": "execute_result"
    }
   ],
   "source": [
    "dt.fit(X_train, Y_train)"
   ]
  },
  {
   "cell_type": "code",
   "execution_count": 16,
   "id": "108c9966",
   "metadata": {},
   "outputs": [
    {
     "data": {
      "text/plain": [
       "(array([9]), 5)"
      ]
     },
     "execution_count": 16,
     "metadata": {},
     "output_type": "execute_result"
    }
   ],
   "source": [
    "i = 1700\n",
    "dt.predict([data[i]]), labels[i]"
   ]
  },
  {
   "cell_type": "code",
   "execution_count": 17,
   "id": "6bfa2e24",
   "metadata": {},
   "outputs": [
    {
     "data": {
      "text/plain": [
       "15"
      ]
     },
     "execution_count": 17,
     "metadata": {},
     "output_type": "execute_result"
    }
   ],
   "source": [
    "(dt.predict(X_test) != Y_test).sum()"
   ]
  },
  {
   "cell_type": "code",
   "execution_count": 18,
   "id": "8ac92011",
   "metadata": {},
   "outputs": [
    {
     "data": {
      "text/plain": [
       "(100,)"
      ]
     },
     "execution_count": 18,
     "metadata": {},
     "output_type": "execute_result"
    }
   ],
   "source": [
    "Y_test.shape"
   ]
  },
  {
   "cell_type": "code",
   "execution_count": 3,
   "id": "0a48eea2",
   "metadata": {},
   "outputs": [],
   "source": [
    "from sklearn.linear_model import LogisticRegression"
   ]
  },
  {
   "cell_type": "code",
   "execution_count": 20,
   "id": "a4360b8c",
   "metadata": {},
   "outputs": [],
   "source": [
    "lr = LogisticRegression()"
   ]
  },
  {
   "cell_type": "code",
   "execution_count": 21,
   "id": "c581ff7a",
   "metadata": {},
   "outputs": [
    {
     "name": "stderr",
     "output_type": "stream",
     "text": [
      "c:\\users\\calin\\desktop\\ml\\.venv\\lib\\site-packages\\sklearn\\linear_model\\_logistic.py:763: ConvergenceWarning: lbfgs failed to converge (status=1):\n",
      "STOP: TOTAL NO. of ITERATIONS REACHED LIMIT.\n",
      "\n",
      "Increase the number of iterations (max_iter) or scale the data as shown in:\n",
      "    https://scikit-learn.org/stable/modules/preprocessing.html\n",
      "Please also refer to the documentation for alternative solver options:\n",
      "    https://scikit-learn.org/stable/modules/linear_model.html#logistic-regression\n",
      "  n_iter_i = _check_optimize_result(\n"
     ]
    },
    {
     "data": {
      "text/plain": [
       "LogisticRegression()"
      ]
     },
     "execution_count": 21,
     "metadata": {},
     "output_type": "execute_result"
    }
   ],
   "source": [
    "lr.fit(X_train, Y_train)"
   ]
  },
  {
   "cell_type": "code",
   "execution_count": 22,
   "id": "eaadf25f",
   "metadata": {},
   "outputs": [
    {
     "data": {
      "text/plain": [
       "array([5])"
      ]
     },
     "execution_count": 22,
     "metadata": {},
     "output_type": "execute_result"
    }
   ],
   "source": [
    "i = 1700\n",
    "lr.predict([data[i]])"
   ]
  },
  {
   "cell_type": "code",
   "execution_count": 23,
   "id": "4e408668",
   "metadata": {},
   "outputs": [
    {
     "data": {
      "text/plain": [
       "5"
      ]
     },
     "execution_count": 23,
     "metadata": {},
     "output_type": "execute_result"
    }
   ],
   "source": [
    "labels[i]"
   ]
  },
  {
   "cell_type": "code",
   "execution_count": 24,
   "id": "9203101d",
   "metadata": {},
   "outputs": [
    {
     "data": {
      "text/plain": [
       "3"
      ]
     },
     "execution_count": 24,
     "metadata": {},
     "output_type": "execute_result"
    }
   ],
   "source": [
    "(lr.predict(X_test) != Y_test).sum()"
   ]
  },
  {
   "cell_type": "code",
   "execution_count": 4,
   "id": "48f8db7c",
   "metadata": {},
   "outputs": [],
   "source": [
    "data = pd.read_csv('archive/age_gender.csv')"
   ]
  },
  {
   "cell_type": "code",
   "execution_count": 5,
   "id": "3dad6adf",
   "metadata": {},
   "outputs": [
    {
     "data": {
      "text/html": [
       "<div>\n",
       "<style scoped>\n",
       "    .dataframe tbody tr th:only-of-type {\n",
       "        vertical-align: middle;\n",
       "    }\n",
       "\n",
       "    .dataframe tbody tr th {\n",
       "        vertical-align: top;\n",
       "    }\n",
       "\n",
       "    .dataframe thead th {\n",
       "        text-align: right;\n",
       "    }\n",
       "</style>\n",
       "<table border=\"1\" class=\"dataframe\">\n",
       "  <thead>\n",
       "    <tr style=\"text-align: right;\">\n",
       "      <th></th>\n",
       "      <th>age</th>\n",
       "      <th>ethnicity</th>\n",
       "      <th>gender</th>\n",
       "      <th>img_name</th>\n",
       "      <th>pixels</th>\n",
       "    </tr>\n",
       "  </thead>\n",
       "  <tbody>\n",
       "    <tr>\n",
       "      <th>0</th>\n",
       "      <td>1</td>\n",
       "      <td>2</td>\n",
       "      <td>0</td>\n",
       "      <td>20161219203650636.jpg.chip.jpg</td>\n",
       "      <td>129 128 128 126 127 130 133 135 139 142 145 14...</td>\n",
       "    </tr>\n",
       "    <tr>\n",
       "      <th>1</th>\n",
       "      <td>1</td>\n",
       "      <td>2</td>\n",
       "      <td>0</td>\n",
       "      <td>20161219222752047.jpg.chip.jpg</td>\n",
       "      <td>164 74 111 168 169 171 175 182 184 188 193 199...</td>\n",
       "    </tr>\n",
       "    <tr>\n",
       "      <th>2</th>\n",
       "      <td>1</td>\n",
       "      <td>2</td>\n",
       "      <td>0</td>\n",
       "      <td>20161219222832191.jpg.chip.jpg</td>\n",
       "      <td>67 70 71 70 69 67 70 79 90 103 116 132 145 155...</td>\n",
       "    </tr>\n",
       "    <tr>\n",
       "      <th>3</th>\n",
       "      <td>1</td>\n",
       "      <td>2</td>\n",
       "      <td>0</td>\n",
       "      <td>20161220144911423.jpg.chip.jpg</td>\n",
       "      <td>193 197 198 200 199 200 202 203 204 205 208 21...</td>\n",
       "    </tr>\n",
       "    <tr>\n",
       "      <th>4</th>\n",
       "      <td>1</td>\n",
       "      <td>2</td>\n",
       "      <td>0</td>\n",
       "      <td>20161220144914327.jpg.chip.jpg</td>\n",
       "      <td>202 205 209 210 209 209 210 211 212 214 218 21...</td>\n",
       "    </tr>\n",
       "  </tbody>\n",
       "</table>\n",
       "</div>"
      ],
      "text/plain": [
       "   age  ethnicity  gender                        img_name  \\\n",
       "0    1          2       0  20161219203650636.jpg.chip.jpg   \n",
       "1    1          2       0  20161219222752047.jpg.chip.jpg   \n",
       "2    1          2       0  20161219222832191.jpg.chip.jpg   \n",
       "3    1          2       0  20161220144911423.jpg.chip.jpg   \n",
       "4    1          2       0  20161220144914327.jpg.chip.jpg   \n",
       "\n",
       "                                              pixels  \n",
       "0  129 128 128 126 127 130 133 135 139 142 145 14...  \n",
       "1  164 74 111 168 169 171 175 182 184 188 193 199...  \n",
       "2  67 70 71 70 69 67 70 79 90 103 116 132 145 155...  \n",
       "3  193 197 198 200 199 200 202 203 204 205 208 21...  \n",
       "4  202 205 209 210 209 209 210 211 212 214 218 21...  "
      ]
     },
     "execution_count": 5,
     "metadata": {},
     "output_type": "execute_result"
    }
   ],
   "source": [
    "data.head()"
   ]
  },
  {
   "cell_type": "code",
   "execution_count": 27,
   "id": "1c2f3dc5",
   "metadata": {},
   "outputs": [
    {
     "data": {
      "text/plain": [
       "'129 128 128 126 127 130 133 135 139 142 145 149 147 145 146 147 148 149 149 150 153 153 153 152 153 153 153 153 153 151 149 147 146 146 144 143 140 134 129 129 126 122 121 119 118 118 99 53 130 129 128 126 127 130 135 141 143 143 144 145 143 142 144 145 146 149 149 148 151 151 151 151 152 153 153 153 153 149 148 147 146 146 142 141 138 133 130 130 128 123 124 122 120 117 98 52 131 129 130 129 129 134 138 144 145 143 143 139 140 138 139 140 142 145 147 149 151 149 149 149 151 152 151 150 150 148 147 145 144 142 140 137 136 135 134 131 128 126 126 123 122 114 97 50 135 134 133 132 131 136 142 145 147 144 141 143 138 131 133 134 137 139 143 147 148 149 149 149 151 151 149 147 147 146 141 139 135 137 137 137 137 138 137 134 132 129 130 124 124 115 95 52 138 139 139 135 134 138 140 140 140 140 140 140 139 134 131 127 131 131 133 138 143 148 149 149 150 151 148 144 141 138 139 133 133 137 139 139 141 140 140 136 132 131 132 125 125 115 91 50 141 145 144 138 135 139 139 133 127 123 124 122 125 126 129 127 129 126 126 129 137 145 149 147 149 149 147 141 135 133 134 132 132 133 134 134 137 139 141 137 135 134 133 127 125 113 82 47 147 147 145 141 138 136 132 124 117 117 116 114 107 104 108 112 115 117 120 126 133 142 146 145 147 148 147 141 135 129 122 119 115 116 120 122 124 126 138 139 138 136 135 128 124 115 72 48 148 150 149 147 141 134 125 121 122 126 122 119 114 114 117 123 124 124 127 131 135 140 143 145 147 149 149 144 139 133 129 128 115 105 110 115 121 120 130 133 138 138 138 133 124 115 58 46 148 152 152 149 143 136 124 122 128 132 132 134 135 137 136 133 134 136 135 134 139 143 144 145 149 151 150 147 141 135 136 133 129 128 130 131 129 126 120 121 132 140 142 136 129 100 63 54 148 155 153 150 146 139 135 135 139 143 146 148 145 140 137 138 134 134 139 138 143 145 147 148 153 155 151 148 143 137 137 135 141 149 146 144 140 136 132 120 129 135 139 138 134 104 125 128 150 154 154 150 145 142 142 142 144 141 143 135 129 127 126 133 134 134 137 139 142 146 149 154 156 155 152 148 140 143 134 130 137 139 138 151 144 146 144 138 136 140 142 142 133 117 155 149 151 154 154 149 144 144 141 141 138 130 117 97 81 78 86 102 118 131 134 135 143 149 152 154 155 155 150 145 138 136 127 122 97 84 101 117 134 149 146 144 143 143 145 143 130 141 135 90 151 154 153 150 147 146 142 141 129 113 86 60 58 49 33 48 83 109 130 133 145 151 154 155 157 155 150 143 132 124 70 39 39 83 71 70 109 125 142 147 142 145 146 143 130 120 69 63 151 153 155 153 151 150 142 131 109 86 53 102 80 75 26 107 51 93 124 136 146 153 155 155 156 158 151 143 137 82 25 76 58 83 151 80 73 113 134 149 148 150 147 142 122 104 67 82 151 153 156 157 155 152 145 136 124 113 123 134 78 28 23 43 69 117 128 148 147 153 159 159 159 159 153 148 146 60 22 26 41 88 159 123 103 105 128 150 148 150 153 143 127 109 69 92 150 154 156 159 159 161 163 162 161 157 139 135 113 51 35 56 90 141 152 153 154 162 170 172 170 168 161 155 163 120 70 30 45 111 143 129 132 135 144 150 156 154 156 147 120 101 94 86 146 153 156 159 163 169 171 172 171 168 165 157 152 136 127 133 149 145 156 162 168 173 177 176 175 172 168 164 161 153 144 141 131 138 143 150 157 152 153 155 156 154 150 147 116 115 95 52 143 151 156 160 165 166 169 172 171 168 162 157 152 144 136 137 143 154 166 171 176 178 178 175 173 172 170 170 166 162 155 141 136 142 156 162 159 159 157 156 157 154 151 140 119 121 55 31 141 148 153 157 161 163 166 169 169 167 162 157 153 149 147 151 158 166 172 175 178 176 174 173 172 170 169 170 173 170 166 154 146 149 154 160 163 162 160 157 153 150 151 134 138 85 35 33 138 146 150 155 159 161 164 167 169 169 167 163 159 156 157 161 168 172 173 176 178 176 170 171 169 168 167 168 169 170 170 165 160 156 156 160 163 164 160 156 152 146 145 132 113 35 32 33 136 144 149 153 158 160 163 165 168 168 170 167 164 165 166 169 172 169 168 169 171 170 167 169 168 166 162 162 164 166 169 172 169 165 165 166 167 165 160 156 152 144 141 129 58 30 29 30 136 142 147 151 154 159 160 164 166 168 169 170 169 170 170 172 170 168 162 163 163 166 167 169 168 166 160 156 160 165 169 172 173 169 169 169 167 164 160 158 153 149 129 136 39 29 29 29 131 140 144 149 153 157 159 164 167 172 172 173 172 172 171 169 168 161 155 153 156 166 172 172 173 167 159 153 156 163 168 169 170 170 172 170 168 164 160 158 152 141 131 123 36 28 27 27 129 139 145 150 151 155 160 165 169 172 174 174 174 174 171 168 164 158 147 148 162 168 168 170 175 167 154 151 150 157 164 167 168 171 174 172 169 164 160 157 155 137 126 62 25 28 27 27 122 136 143 148 146 150 157 162 166 168 170 171 171 172 170 167 160 151 144 159 168 162 162 159 158 156 159 160 151 152 160 162 166 168 170 168 166 163 160 155 150 136 67 23 28 23 25 25 115 134 141 148 146 150 154 159 165 167 168 169 169 169 168 165 157 147 144 153 137 132 139 138 149 146 134 140 154 152 152 162 164 167 167 167 165 161 159 154 147 134 40 28 23 26 24 24 102 132 140 145 145 148 151 156 161 163 165 166 166 166 165 164 155 142 134 133 88 81 99 111 113 94 67 88 129 151 153 157 160 164 165 164 162 160 158 153 145 124 26 25 25 24 24 24 91 122 140 145 143 145 148 151 156 159 161 162 162 163 166 164 157 149 133 133 128 128 130 125 130 137 133 125 141 151 152 151 159 162 164 164 161 158 155 150 142 108 24 24 24 22 24 24 82 104 138 141 143 145 145 148 152 154 158 159 159 160 161 159 155 151 150 153 153 153 159 146 151 157 147 149 152 153 152 152 155 161 163 163 158 155 154 149 135 92 28 21 22 20 22 22 73 86 129 138 141 142 141 144 146 150 153 156 156 160 159 156 155 151 147 151 152 151 164 148 153 155 148 148 149 149 150 150 154 159 159 159 156 151 150 144 130 125 88 32 23 24 18 23 73 69 102 132 135 141 136 140 143 144 149 151 152 155 153 150 149 146 139 140 144 154 156 150 156 155 143 142 145 147 150 150 154 155 153 153 152 147 144 138 134 128 128 107 45 23 28 20 71 59 75 124 136 130 133 135 137 140 143 145 147 149 147 145 142 135 131 134 134 145 142 148 152 145 141 138 134 137 141 146 149 151 147 145 142 141 138 135 137 137 133 136 115 49 19 28 73 66 62 94 129 133 130 130 132 135 137 139 140 138 138 135 127 121 113 125 124 115 101 112 119 109 122 130 127 123 130 141 143 144 140 137 135 133 136 140 138 146 139 138 135 116 44 21 81 63 59 61 97 131 131 128 129 130 132 135 135 134 132 119 99 71 64 60 50 42 55 73 73 52 62 81 87 95 118 130 136 138 135 133 131 128 135 143 148 148 148 148 142 141 98 32 89 69 63 59 73 105 124 130 127 125 129 132 132 130 124 112 98 90 79 96 100 88 84 92 93 91 96 99 94 89 104 117 128 133 133 130 132 129 140 147 153 149 151 151 148 147 131 73 102 82 67 62 65 81 105 119 124 123 126 127 125 121 121 123 121 109 109 111 114 122 126 121 133 124 116 120 125 114 104 114 125 132 132 125 127 137 151 152 146 150 152 152 151 144 137 114 114 95 75 65 64 74 82 91 111 121 116 121 121 121 122 124 124 121 114 111 120 126 126 129 127 122 123 129 134 128 118 115 121 124 125 127 134 146 151 138 140 151 153 153 149 152 142 135 123 106 88 69 64 71 81 76 71 93 114 111 114 119 122 125 128 129 126 113 111 110 108 110 117 123 126 136 136 130 126 123 121 121 121 132 144 154 143 123 140 153 155 155 156 152 150 137 129 112 102 84 69 71 78 85 69 63 88 102 102 106 115 119 126 131 133 131 125 119 117 118 124 133 136 136 133 128 123 120 117 123 127 139 149 156 120 134 143 152 156 158 158 150 153 145 136 121 112 96 82 77 81 86 85 65 63 83 90 97 101 111 117 127 137 143 150 150 150 152 149 148 141 135 127 117 117 110 111 121 132 142 151 146 116 140 145 154 157 159 158 155 155 150 139 128 121 110 95 89 91 91 89 78 67 63 70 83 84 99 108 121 131 139 150 146 146 146 146 143 135 125 114 116 121 112 116 132 137 146 151 134 121 142 149 156 158 160 156 156 151 145 132 139 130 120 106 101 98 98 98 90 78 71 67 68 70 75 84 101 121 131 136 139 134 134 133 129 118 112 111 122 125 118 125 139 143 147 146 120 126 141 149 156 158 160 160 157 148 139 129 141 138 129 116 110 108 107 105 104 91 80 75 73 81 82 76 71 90 118 129 116 110 113 109 105 106 112 121 129 126 126 129 142 148 150 145 113 129 142 149 156 157 158 158 157 151 143 129 138 146 136 125 119 118 115 114 112 102 91 82 79 82 91 99 95 96 99 103 98 97 103 108 110 118 124 130 131 131 131 137 144 147 147 136 111 131 141 146 153 156 154 154 153 150 145 129 140 148 141 132 127 127 125 123 117 110 102 93 85 87 93 100 106 107 107 110 108 114 113 113 117 120 125 133 136 135 137 142 144 145 144 131 111 133 139 144 149 152 153 153 153 152 146 121 138 147 146 139 135 132 133 131 124 116 108 102 97 97 103 107 111 112 113 116 116 117 117 122 125 128 131 136 138 137 137 140 142 143 140 123 114 128 135 138 143 145 149 151 151 150 148 117 137 146 146 143 138 135 135 134 128 122 116 112 108 107 109 113 117 118 117 118 119 121 124 127 129 131 132 135 137 137 137 138 141 142 133 108 107 124 134 136 140 142 146 148 149 148 148 115 135 142 142 141 140 137 135 135 130 125 122 118 115 114 116 121 123 124 123 124 122 124 125 128 129 131 132 135 135 135 136 138 135 133 124 90 104 123 129 134 138 142 144 144 146 146 146'"
      ]
     },
     "execution_count": 27,
     "metadata": {},
     "output_type": "execute_result"
    }
   ],
   "source": [
    "data[\"pixels\"][0]"
   ]
  },
  {
   "cell_type": "code",
   "execution_count": 14,
   "id": "421491c8",
   "metadata": {},
   "outputs": [],
   "source": [
    "X = []\n",
    "for x in data.pixels:\n",
    "    pxl = x.split(\" \")\n",
    "    X.append([int(p) for p in pxl])\n",
    "X = np.array(X)"
   ]
  },
  {
   "cell_type": "code",
   "execution_count": 7,
   "id": "733d88c3",
   "metadata": {},
   "outputs": [
    {
     "data": {
      "text/plain": [
       "(23705, 2304)"
      ]
     },
     "execution_count": 7,
     "metadata": {},
     "output_type": "execute_result"
    }
   ],
   "source": [
    "X.shape"
   ]
  },
  {
   "cell_type": "code",
   "execution_count": 8,
   "id": "efd91e25",
   "metadata": {},
   "outputs": [
    {
     "data": {
      "text/plain": [
       "<matplotlib.image.AxesImage at 0x204aaf601f0>"
      ]
     },
     "execution_count": 8,
     "metadata": {},
     "output_type": "execute_result"
    },
    {
     "data": {
      "image/png": "[encoded data removed]",
      "text/plain": [
       "<Figure size 432x288 with 1 Axes>"
      ]
     },
     "metadata": {
      "needs_background": "light"
     },
     "output_type": "display_data"
    }
   ],
   "source": [
    "plt.imshow(X[2500].reshape(48, 48), cmap=plt.cm.gray)"
   ]
  },
  {
   "cell_type": "code",
   "execution_count": 9,
   "id": "c8078e72",
   "metadata": {},
   "outputs": [],
   "source": [
    "y = np.array(data.gender)"
   ]
  },
  {
   "cell_type": "code",
   "execution_count": 35,
   "id": "506eb53b",
   "metadata": {},
   "outputs": [
    {
     "data": {
      "text/plain": [
       "array([0, 0, 0, ..., 1, 1, 1], dtype=int64)"
      ]
     },
     "execution_count": 35,
     "metadata": {},
     "output_type": "execute_result"
    }
   ],
   "source": [
    "y"
   ]
  },
  {
   "cell_type": "code",
   "execution_count": 15,
   "id": "8615c594",
   "metadata": {},
   "outputs": [
    {
     "data": {
      "text/plain": [
       "(23705, 2304)"
      ]
     },
     "execution_count": 15,
     "metadata": {},
     "output_type": "execute_result"
    }
   ],
   "source": [
    "#X = np.array(data.pixels)\n",
    "X.shape"
   ]
  },
  {
   "cell_type": "code",
   "execution_count": 16,
   "id": "945b093a",
   "metadata": {},
   "outputs": [
    {
     "data": {
      "text/plain": [
       "((20000, 2304), (20000,), (3705, 2304), (3705,), (23705,))"
      ]
     },
     "execution_count": 16,
     "metadata": {},
     "output_type": "execute_result"
    }
   ],
   "source": [
    "X_train = X[:20000]\n",
    "Y_train = y[:20000]\n",
    "X_test = X[20000:]\n",
    "Y_test = y[20000:]\n",
    "\n",
    "X_train.shape, Y_train.shape, X_test.shape, Y_test.shape, y.shape"
   ]
  },
  {
   "cell_type": "code",
   "execution_count": 37,
   "id": "18504eca",
   "metadata": {},
   "outputs": [],
   "source": [
    "dt = DecisionTreeClassifier()"
   ]
  },
  {
   "cell_type": "code",
   "execution_count": null,
   "id": "babe354d",
   "metadata": {
    "scrolled": false
   },
   "outputs": [],
   "source": [
    "dt.fit(X_train, Y_train)"
   ]
  },
  {
   "cell_type": "code",
   "execution_count": 12,
   "id": "dd4cf436",
   "metadata": {},
   "outputs": [],
   "source": [
    "lr = LogisticRegression()"
   ]
  },
  {
   "cell_type": "code",
   "execution_count": 17,
   "id": "5b257bfc",
   "metadata": {},
   "outputs": [
    {
     "name": "stderr",
     "output_type": "stream",
     "text": [
      "c:\\users\\calin\\desktop\\ml\\.venv\\lib\\site-packages\\sklearn\\linear_model\\_logistic.py:763: ConvergenceWarning: lbfgs failed to converge (status=1):\n",
      "STOP: TOTAL NO. of ITERATIONS REACHED LIMIT.\n",
      "\n",
      "Increase the number of iterations (max_iter) or scale the data as shown in:\n",
      "    https://scikit-learn.org/stable/modules/preprocessing.html\n",
      "Please also refer to the documentation for alternative solver options:\n",
      "    https://scikit-learn.org/stable/modules/linear_model.html#logistic-regression\n",
      "  n_iter_i = _check_optimize_result(\n"
     ]
    },
    {
     "data": {
      "text/plain": [
       "LogisticRegression()"
      ]
     },
     "execution_count": 17,
     "metadata": {},
     "output_type": "execute_result"
    }
   ],
   "source": [
    "lr.fit(X_train, Y_train)"
   ]
  },
  {
   "cell_type": "code",
   "execution_count": 24,
   "id": "3f0556f7",
   "metadata": {},
   "outputs": [],
   "source": [
    "Y_pred = lr.predict(X_test)"
   ]
  },
  {
   "cell_type": "code",
   "execution_count": 25,
   "id": "9090ba6f",
   "metadata": {},
   "outputs": [
    {
     "data": {
      "text/plain": [
       "((3705, 2304), (3705,), (3705,))"
      ]
     },
     "execution_count": 25,
     "metadata": {},
     "output_type": "execute_result"
    }
   ],
   "source": [
    "X_test.shape, Y_pred.shape, Y_test.shape"
   ]
  },
  {
   "cell_type": "code",
   "execution_count": 27,
   "id": "7bb64ac2",
   "metadata": {},
   "outputs": [
    {
     "data": {
      "text/plain": [
       "2871"
      ]
     },
     "execution_count": 27,
     "metadata": {},
     "output_type": "execute_result"
    }
   ],
   "source": [
    "(Y_pred == Y_test).sum()"
   ]
  },
  {
   "cell_type": "code",
   "execution_count": 28,
   "id": "01c6b48c",
   "metadata": {},
   "outputs": [
    {
     "data": {
      "text/plain": [
       "0.7748987854251013"
      ]
     },
     "execution_count": 28,
     "metadata": {},
     "output_type": "execute_result"
    }
   ],
   "source": [
    "2871/3705"
   ]
  },
  {
   "cell_type": "code",
   "execution_count": null,
   "id": "e758cf11",
   "metadata": {},
   "outputs": [],
   "source": []
  }
 ],
 "metadata": {
  "kernelspec": {
   "display_name": "Python 3",
   "language": "python",
   "name": "python3"
  },
  "language_info": {
   "codemirror_mode": {
    "name": "ipython",
    "version": 3
   },
   "file_extension": ".py",
   "mimetype": "text/x-python",
   "name": "python",
   "nbconvert_exporter": "python",
   "pygments_lexer": "ipython3",
   "version": "3.9.5"
  }
 },
 "nbformat": 4,
 "nbformat_minor": 5
}
